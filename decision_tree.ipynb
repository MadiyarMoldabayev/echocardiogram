{
 "cells": [
  {
   "cell_type": "code",
   "execution_count": 41,
   "metadata": {},
   "outputs": [],
   "source": [
    "import numpy as np\n",
    "import pandas as pd\n",
    "import matplotlib.pyplot as plt\n",
    "import seaborn as sns"
   ]
  },
  {
   "cell_type": "code",
   "execution_count": 42,
   "metadata": {},
   "outputs": [
    {
     "data": {
      "text/html": [
       "<div>\n",
       "<style scoped>\n",
       "    .dataframe tbody tr th:only-of-type {\n",
       "        vertical-align: middle;\n",
       "    }\n",
       "\n",
       "    .dataframe tbody tr th {\n",
       "        vertical-align: top;\n",
       "    }\n",
       "\n",
       "    .dataframe thead th {\n",
       "        text-align: right;\n",
       "    }\n",
       "</style>\n",
       "<table border=\"1\" class=\"dataframe\">\n",
       "  <thead>\n",
       "    <tr style=\"text-align: right;\">\n",
       "      <th></th>\n",
       "      <th>survival</th>\n",
       "      <th>alive</th>\n",
       "      <th>age</th>\n",
       "      <th>pericardialeffusion</th>\n",
       "      <th>fractionalshortening</th>\n",
       "      <th>epss</th>\n",
       "      <th>lvdd</th>\n",
       "      <th>wallmotion-score</th>\n",
       "      <th>wallmotion-index</th>\n",
       "      <th>mult</th>\n",
       "      <th>name</th>\n",
       "      <th>group</th>\n",
       "      <th>aliveat1</th>\n",
       "    </tr>\n",
       "  </thead>\n",
       "  <tbody>\n",
       "    <tr>\n",
       "      <th>0</th>\n",
       "      <td>11.0</td>\n",
       "      <td>0.0</td>\n",
       "      <td>71.0</td>\n",
       "      <td>0.0</td>\n",
       "      <td>0.260</td>\n",
       "      <td>9.000</td>\n",
       "      <td>4.600</td>\n",
       "      <td>14.0</td>\n",
       "      <td>1.00</td>\n",
       "      <td>1.000</td>\n",
       "      <td>name</td>\n",
       "      <td>1</td>\n",
       "      <td>0.0</td>\n",
       "    </tr>\n",
       "    <tr>\n",
       "      <th>1</th>\n",
       "      <td>19.0</td>\n",
       "      <td>0.0</td>\n",
       "      <td>72.0</td>\n",
       "      <td>0.0</td>\n",
       "      <td>0.380</td>\n",
       "      <td>6.000</td>\n",
       "      <td>4.100</td>\n",
       "      <td>14.0</td>\n",
       "      <td>1.70</td>\n",
       "      <td>0.588</td>\n",
       "      <td>name</td>\n",
       "      <td>1</td>\n",
       "      <td>0.0</td>\n",
       "    </tr>\n",
       "    <tr>\n",
       "      <th>2</th>\n",
       "      <td>16.0</td>\n",
       "      <td>0.0</td>\n",
       "      <td>55.0</td>\n",
       "      <td>0.0</td>\n",
       "      <td>0.260</td>\n",
       "      <td>4.000</td>\n",
       "      <td>3.420</td>\n",
       "      <td>14.0</td>\n",
       "      <td>1.00</td>\n",
       "      <td>1.000</td>\n",
       "      <td>name</td>\n",
       "      <td>1</td>\n",
       "      <td>0.0</td>\n",
       "    </tr>\n",
       "    <tr>\n",
       "      <th>3</th>\n",
       "      <td>57.0</td>\n",
       "      <td>0.0</td>\n",
       "      <td>60.0</td>\n",
       "      <td>0.0</td>\n",
       "      <td>0.253</td>\n",
       "      <td>12.062</td>\n",
       "      <td>4.603</td>\n",
       "      <td>16.0</td>\n",
       "      <td>1.45</td>\n",
       "      <td>0.788</td>\n",
       "      <td>name</td>\n",
       "      <td>1</td>\n",
       "      <td>0.0</td>\n",
       "    </tr>\n",
       "    <tr>\n",
       "      <th>4</th>\n",
       "      <td>19.0</td>\n",
       "      <td>1.0</td>\n",
       "      <td>57.0</td>\n",
       "      <td>0.0</td>\n",
       "      <td>0.160</td>\n",
       "      <td>22.000</td>\n",
       "      <td>5.750</td>\n",
       "      <td>18.0</td>\n",
       "      <td>2.25</td>\n",
       "      <td>0.571</td>\n",
       "      <td>name</td>\n",
       "      <td>1</td>\n",
       "      <td>0.0</td>\n",
       "    </tr>\n",
       "  </tbody>\n",
       "</table>\n",
       "</div>"
      ],
      "text/plain": [
       "   survival  alive   age  pericardialeffusion  fractionalshortening    epss  \\\n",
       "0      11.0    0.0  71.0                  0.0                 0.260   9.000   \n",
       "1      19.0    0.0  72.0                  0.0                 0.380   6.000   \n",
       "2      16.0    0.0  55.0                  0.0                 0.260   4.000   \n",
       "3      57.0    0.0  60.0                  0.0                 0.253  12.062   \n",
       "4      19.0    1.0  57.0                  0.0                 0.160  22.000   \n",
       "\n",
       "    lvdd  wallmotion-score  wallmotion-index   mult  name group  aliveat1  \n",
       "0  4.600              14.0              1.00  1.000  name     1       0.0  \n",
       "1  4.100              14.0              1.70  0.588  name     1       0.0  \n",
       "2  3.420              14.0              1.00  1.000  name     1       0.0  \n",
       "3  4.603              16.0              1.45  0.788  name     1       0.0  \n",
       "4  5.750              18.0              2.25  0.571  name     1       0.0  "
      ]
     },
     "execution_count": 42,
     "metadata": {},
     "output_type": "execute_result"
    }
   ],
   "source": [
    "data = pd.read_csv('echocardiogram.csv')\n",
    "data.head()"
   ]
  },
  {
   "cell_type": "code",
   "execution_count": 43,
   "metadata": {},
   "outputs": [
    {
     "data": {
      "text/html": [
       "<div>\n",
       "<style scoped>\n",
       "    .dataframe tbody tr th:only-of-type {\n",
       "        vertical-align: middle;\n",
       "    }\n",
       "\n",
       "    .dataframe tbody tr th {\n",
       "        vertical-align: top;\n",
       "    }\n",
       "\n",
       "    .dataframe thead th {\n",
       "        text-align: right;\n",
       "    }\n",
       "</style>\n",
       "<table border=\"1\" class=\"dataframe\">\n",
       "  <thead>\n",
       "    <tr style=\"text-align: right;\">\n",
       "      <th></th>\n",
       "      <th>survival</th>\n",
       "      <th>alive</th>\n",
       "      <th>age</th>\n",
       "      <th>pericardialeffusion</th>\n",
       "      <th>fractionalshortening</th>\n",
       "      <th>epss</th>\n",
       "      <th>lvdd</th>\n",
       "      <th>wallmotion-score</th>\n",
       "      <th>wallmotion-index</th>\n",
       "      <th>mult</th>\n",
       "    </tr>\n",
       "  </thead>\n",
       "  <tbody>\n",
       "    <tr>\n",
       "      <th>0</th>\n",
       "      <td>11.0</td>\n",
       "      <td>0.0</td>\n",
       "      <td>71.0</td>\n",
       "      <td>0.0</td>\n",
       "      <td>0.260</td>\n",
       "      <td>9.000</td>\n",
       "      <td>4.600</td>\n",
       "      <td>14.0</td>\n",
       "      <td>1.00</td>\n",
       "      <td>1.000</td>\n",
       "    </tr>\n",
       "    <tr>\n",
       "      <th>1</th>\n",
       "      <td>19.0</td>\n",
       "      <td>0.0</td>\n",
       "      <td>72.0</td>\n",
       "      <td>0.0</td>\n",
       "      <td>0.380</td>\n",
       "      <td>6.000</td>\n",
       "      <td>4.100</td>\n",
       "      <td>14.0</td>\n",
       "      <td>1.70</td>\n",
       "      <td>0.588</td>\n",
       "    </tr>\n",
       "    <tr>\n",
       "      <th>2</th>\n",
       "      <td>16.0</td>\n",
       "      <td>0.0</td>\n",
       "      <td>55.0</td>\n",
       "      <td>0.0</td>\n",
       "      <td>0.260</td>\n",
       "      <td>4.000</td>\n",
       "      <td>3.420</td>\n",
       "      <td>14.0</td>\n",
       "      <td>1.00</td>\n",
       "      <td>1.000</td>\n",
       "    </tr>\n",
       "    <tr>\n",
       "      <th>3</th>\n",
       "      <td>57.0</td>\n",
       "      <td>0.0</td>\n",
       "      <td>60.0</td>\n",
       "      <td>0.0</td>\n",
       "      <td>0.253</td>\n",
       "      <td>12.062</td>\n",
       "      <td>4.603</td>\n",
       "      <td>16.0</td>\n",
       "      <td>1.45</td>\n",
       "      <td>0.788</td>\n",
       "    </tr>\n",
       "    <tr>\n",
       "      <th>4</th>\n",
       "      <td>19.0</td>\n",
       "      <td>1.0</td>\n",
       "      <td>57.0</td>\n",
       "      <td>0.0</td>\n",
       "      <td>0.160</td>\n",
       "      <td>22.000</td>\n",
       "      <td>5.750</td>\n",
       "      <td>18.0</td>\n",
       "      <td>2.25</td>\n",
       "      <td>0.571</td>\n",
       "    </tr>\n",
       "  </tbody>\n",
       "</table>\n",
       "</div>"
      ],
      "text/plain": [
       "   survival  alive   age  pericardialeffusion  fractionalshortening    epss  \\\n",
       "0      11.0    0.0  71.0                  0.0                 0.260   9.000   \n",
       "1      19.0    0.0  72.0                  0.0                 0.380   6.000   \n",
       "2      16.0    0.0  55.0                  0.0                 0.260   4.000   \n",
       "3      57.0    0.0  60.0                  0.0                 0.253  12.062   \n",
       "4      19.0    1.0  57.0                  0.0                 0.160  22.000   \n",
       "\n",
       "    lvdd  wallmotion-score  wallmotion-index   mult  \n",
       "0  4.600              14.0              1.00  1.000  \n",
       "1  4.100              14.0              1.70  0.588  \n",
       "2  3.420              14.0              1.00  1.000  \n",
       "3  4.603              16.0              1.45  0.788  \n",
       "4  5.750              18.0              2.25  0.571  "
      ]
     },
     "execution_count": 43,
     "metadata": {},
     "output_type": "execute_result"
    }
   ],
   "source": [
    "data = data.drop(['name', 'group', 'aliveat1'], axis=1)\n",
    "data.head()"
   ]
  },
  {
   "cell_type": "code",
   "execution_count": 44,
   "metadata": {},
   "outputs": [
    {
     "data": {
      "text/plain": [
       "survival                 3\n",
       "alive                    2\n",
       "age                      7\n",
       "pericardialeffusion      1\n",
       "fractionalshortening     9\n",
       "epss                    16\n",
       "lvdd                    12\n",
       "wallmotion-score         5\n",
       "wallmotion-index         3\n",
       "mult                     4\n",
       "dtype: int64"
      ]
     },
     "execution_count": 44,
     "metadata": {},
     "output_type": "execute_result"
    }
   ],
   "source": [
    "data.isnull().sum()\n"
   ]
  },
  {
   "cell_type": "code",
   "execution_count": 45,
   "metadata": {},
   "outputs": [
    {
     "name": "stdout",
     "output_type": "stream",
     "text": [
      "survival : 0.0226 %\n",
      "alive : 0.015 %\n",
      "age : 0.0526 %\n",
      "pericardialeffusion : 0.0075 %\n",
      "fractionalshortening : 0.0677 %\n",
      "epss : 0.1203 %\n",
      "lvdd : 0.0902 %\n",
      "wallmotion-score : 0.0376 %\n",
      "wallmotion-index : 0.0226 %\n",
      "mult : 0.0301 %\n"
     ]
    }
   ],
   "source": [
    "features_with_null = [features for features in data.columns if data[features].isnull().sum()>0]\n",
    "for feature in features_with_null:\n",
    "    print(feature, ':', round(data[feature].isnull().mean(), 4), '%')"
   ]
  },
  {
   "cell_type": "code",
   "execution_count": 46,
   "metadata": {},
   "outputs": [
    {
     "name": "stdout",
     "output_type": "stream",
     "text": [
      "survival : [1.10e+01 1.90e+01 1.60e+01 5.70e+01 2.60e+01 1.30e+01 5.00e+01 2.50e+01\n",
      " 1.00e+01 5.20e+01 4.40e+01 5.00e-01 2.40e+01 2.20e+01 1.00e+00 7.50e-01\n",
      " 5.00e+00 4.80e+01 2.90e+01 2.50e-01 3.60e+01 3.00e+00 2.70e+01 3.50e+01\n",
      " 3.10e+01 3.20e+01 4.00e+01 4.60e+01 2.00e+00 3.70e+01 1.95e+01 2.00e+01\n",
      "      nan 7.00e+00 1.20e+01 4.50e+01 5.30e+01 3.80e+01 9.00e+00 4.90e+01\n",
      " 4.70e+01 4.10e+01 3.30e+01 1.50e+01 3.00e-02 2.30e+01 3.40e+01 2.10e+01\n",
      " 5.50e+01 4.00e+00 1.25e+00 2.80e+01 1.70e+01 7.50e+00]\n",
      "alive : [ 0.  1. nan]\n",
      "age : [71.    72.    55.    60.    57.    68.    62.    46.    54.    77.\n",
      " 73.    69.    62.529 66.    85.    64.    35.    75.    65.    52.\n",
      "    nan 47.    63.    61.    80.    70.    79.    56.    67.    81.\n",
      " 59.    58.    51.    50.    78.    86.    74.    53.    48.   ]\n",
      "pericardialeffusion : [ 0.  1. 77. nan]\n",
      "fractionalshortening : [0.26  0.38  0.253 0.16  0.23  0.33  0.34  0.14  0.13  0.45  0.15  0.12\n",
      " 0.25  0.07  0.09  0.22  0.18  0.17  0.19  0.3     nan 0.21  0.4   0.61\n",
      " 0.06  0.51  0.41  0.35  0.27  0.44  0.03  0.04  0.24  0.01  0.29  0.1\n",
      " 0.187 0.11  0.36  0.225 0.217 0.2   0.05  0.28  0.155 0.344 0.272 0.5\n",
      " 0.258 0.228 0.036 0.43 ]\n",
      "epss : [ 9.     6.     4.    12.062 22.     5.    31.     8.     0.    13.\n",
      " 16.    10.    23.    12.063 11.    20.    17.    15.    12.    19.\n",
      " 12.733  5.9    7.       nan  4.2   17.2    5.12  13.1   23.6    5.4\n",
      "  9.3    4.7   17.5   21.3   14.    14.8    9.4   24.6   15.6   18.6\n",
      "  9.8   11.9   16.4   10.3   13.2   11.4    9.7    8.8   16.1   12.2\n",
      " 10.2    7.5   30.1   17.9   21.7   19.4    7.1   16.8   25.    19.2\n",
      "  5.5    8.7   11.3    6.6    9.1   16.5    5.6    4.8    8.5   28.9\n",
      " 11.8    6.9   14.3   40.     7.6   12.1   13.6    9.2   28.6   19.1\n",
      "  6.8   25.5   12.9  ]\n",
      "lvdd : [4.6   4.1   3.42  4.603 5.75  4.31  5.43  5.25  5.09  4.49  4.23  3.6\n",
      " 4.    3.73  5.8   4.29  4.65  5.2   5.819 5.4   5.39  5.46  6.06  3.48\n",
      " 3.85  4.17    nan 4.16  5.05  5.32  3.1   4.07  5.31  3.88  4.36  3.63\n",
      " 4.27  3.59  3.96  6.29  5.    5.26  3.49  5.65  6.15  4.57  4.37  5.3\n",
      " 4.41  5.15  6.78  5.02  4.96  4.68  4.75  5.57  5.78  5.62  4.72  5.95\n",
      " 4.54  4.85  4.77  4.58  6.74  4.48  4.44  6.21  4.14  4.56  5.16  4.04\n",
      " 5.36  4.02  3.87  5.47  6.73  4.69  4.55  4.87  3.52  5.49  4.12  6.23\n",
      " 4.42  3.92  4.38  4.06  6.63  4.79  5.86  2.32  5.04  3.66  4.51 ]\n",
      "wallmotion-score : [14.   16.   18.   12.   22.5  15.5  11.67 24.    8.   27.   19.5  13.83\n",
      "  7.5  10.    2.     nan  6.   13.    5.   21.5  15.   11.   22.   17.5\n",
      "  9.   17.   23.   39.   12.33 10.5  16.67 17.83  5.5  13.67 16.5  21.\n",
      " 28.   11.5  13.5  12.67 15.67 12.5  26.08 18.16 19.   14.5 ]\n",
      "wallmotion-index : [1.    1.7   1.45  2.25  1.875 1.14  1.19  1.8   2.33  1.64  2.    1.333\n",
      " 1.625 1.38  1.5   1.11  1.667 1.56  1.17  3.    2.15  1.67  1.222 1.3\n",
      " 1.25  1.31  2.3     nan 1.08  1.37  1.167 1.05  1.39  1.18  2.5   1.1\n",
      " 1.367 2.18  2.39  1.15  2.1   1.09  1.36  1.41  1.83  1.04  1.27  1.06\n",
      " 1.42  2.01  1.51  1.23  1.4   2.2   1.95  1.2   1.375 1.73  1.21  1.409]\n",
      "mult : [1.    0.588 0.788 0.571 0.857 1.003 0.93  0.714 0.358 0.784 0.429 0.71\n",
      " 0.36  0.57  0.64  0.43  2.      nan 0.14  0.357 0.786 0.428 0.928 0.812\n",
      " 0.642 0.785 0.28  0.643]\n"
     ]
    }
   ],
   "source": [
    "for feature in features_with_null:\n",
    "    print(feature, ':', data[feature].unique())"
   ]
  },
  {
   "cell_type": "code",
   "execution_count": 47,
   "metadata": {},
   "outputs": [
    {
     "data": {
      "text/plain": [
       "0"
      ]
     },
     "execution_count": 47,
     "metadata": {},
     "output_type": "execute_result"
    }
   ],
   "source": [
    "data = data.dropna(subset=['alive'])\n",
    "data['alive'].isnull().sum()"
   ]
  },
  {
   "cell_type": "code",
   "execution_count": 48,
   "metadata": {},
   "outputs": [
    {
     "name": "stdout",
     "output_type": "stream",
     "text": [
      "Index(['survival', 'age', 'fractionalshortening', 'epss', 'lvdd',\n",
      "       'wallmotion-score', 'wallmotion-index', 'mult'],\n",
      "      dtype='object')\n"
     ]
    }
   ],
   "source": [
    "discrete_features = ['pericardialeffusion']\n",
    "continuous_features = data.drop(['pericardialeffusion', 'alive'], axis=1).columns\n",
    "label = ['alive']\n",
    "\n",
    "print(continuous_features)"
   ]
  },
  {
   "cell_type": "code",
   "execution_count": 49,
   "metadata": {},
   "outputs": [
    {
     "data": {
      "image/png": "[encoded data removed]",
      "text/plain": [
       "<Figure size 640x480 with 1 Axes>"
      ]
     },
     "metadata": {},
     "output_type": "display_data"
    },
    {
     "data": {
      "image/png": "[encoded data removed]",
      "text/plain": [
       "<Figure size 640x480 with 1 Axes>"
      ]
     },
     "metadata": {},
     "output_type": "display_data"
    },
    {
     "data": {
      "image/png": "[encoded data removed]",
      "text/plain": [
       "<Figure size 640x480 with 1 Axes>"
      ]
     },
     "metadata": {},
     "output_type": "display_data"
    },
    {
     "data": {
      "image/png": "[encoded data removed]",
      "text/plain": [
       "<Figure size 640x480 with 1 Axes>"
      ]
     },
     "metadata": {},
     "output_type": "display_data"
    },
    {
     "data": {
      "image/png": "[encoded data removed]",
      "text/plain": [
       "<Figure size 640x480 with 1 Axes>"
      ]
     },
     "metadata": {},
     "output_type": "display_data"
    },
    {
     "data": {
      "image/png": "[encoded data removed]",
      "text/plain": [
       "<Figure size 640x480 with 1 Axes>"
      ]
     },
     "metadata": {},
     "output_type": "display_data"
    },
    {
     "data": {
      "image/png": "[encoded data removed]",
      "text/plain": [
       "<Figure size 640x480 with 1 Axes>"
      ]
     },
     "metadata": {},
     "output_type": "display_data"
    },
    {
     "data": {
      "image/png": "[encoded data removed]",
      "text/plain": [
       "<Figure size 640x480 with 1 Axes>"
      ]
     },
     "metadata": {},
     "output_type": "display_data"
    }
   ],
   "source": [
    "for feature in continuous_features:\n",
    "    data.boxplot(feature)\n",
    "    plt.title(feature)\n",
    "    plt.show()"
   ]
  },
  {
   "cell_type": "code",
   "execution_count": 50,
   "metadata": {},
   "outputs": [],
   "source": [
    "features_with_outliers = ['wallmotion-score', 'wallmotion-index', 'mult']\n"
   ]
  },
  {
   "cell_type": "code",
   "execution_count": 51,
   "metadata": {},
   "outputs": [
    {
     "name": "stderr",
     "output_type": "stream",
     "text": [
      "C:\\Users\\user\\AppData\\Local\\Temp\\ipykernel_29324\\4048376697.py:5: FutureWarning: A value is trying to be set on a copy of a DataFrame or Series through chained assignment using an inplace method.\n",
      "The behavior will change in pandas 3.0. This inplace method will never work because the intermediate object on which we are setting values always behaves as a copy.\n",
      "\n",
      "For example, when doing 'df[col].method(value, inplace=True)', try using 'df.method({col: value}, inplace=True)' or df[col] = df[col].method(value) instead, to perform the operation inplace on the original object.\n",
      "\n",
      "\n",
      "  data[feature].fillna(data[feature].mean(), inplace=True)\n",
      "C:\\Users\\user\\AppData\\Local\\Temp\\ipykernel_29324\\4048376697.py:3: FutureWarning: A value is trying to be set on a copy of a DataFrame or Series through chained assignment using an inplace method.\n",
      "The behavior will change in pandas 3.0. This inplace method will never work because the intermediate object on which we are setting values always behaves as a copy.\n",
      "\n",
      "For example, when doing 'df[col].method(value, inplace=True)', try using 'df.method({col: value}, inplace=True)' or df[col] = df[col].method(value) instead, to perform the operation inplace on the original object.\n",
      "\n",
      "\n",
      "  data[feature].fillna(data[feature].median(), inplace=True)\n",
      "C:\\Users\\user\\AppData\\Local\\Temp\\ipykernel_29324\\4048376697.py:3: FutureWarning: A value is trying to be set on a copy of a DataFrame or Series through chained assignment using an inplace method.\n",
      "The behavior will change in pandas 3.0. This inplace method will never work because the intermediate object on which we are setting values always behaves as a copy.\n",
      "\n",
      "For example, when doing 'df[col].method(value, inplace=True)', try using 'df.method({col: value}, inplace=True)' or df[col] = df[col].method(value) instead, to perform the operation inplace on the original object.\n",
      "\n",
      "\n",
      "  data[feature].fillna(data[feature].median(), inplace=True)\n",
      "C:\\Users\\user\\AppData\\Local\\Temp\\ipykernel_29324\\4048376697.py:3: FutureWarning: A value is trying to be set on a copy of a DataFrame or Series through chained assignment using an inplace method.\n",
      "The behavior will change in pandas 3.0. This inplace method will never work because the intermediate object on which we are setting values always behaves as a copy.\n",
      "\n",
      "For example, when doing 'df[col].method(value, inplace=True)', try using 'df.method({col: value}, inplace=True)' or df[col] = df[col].method(value) instead, to perform the operation inplace on the original object.\n",
      "\n",
      "\n",
      "  data[feature].fillna(data[feature].median(), inplace=True)\n"
     ]
    }
   ],
   "source": [
    "for feature in continuous_features:\n",
    "    if feature in features_with_outliers:\n",
    "        data[feature].fillna(data[feature].median(), inplace=True)\n",
    "    else:\n",
    "        data[feature].fillna(data[feature].mean(), inplace=True)"
   ]
  },
  {
   "cell_type": "code",
   "execution_count": 52,
   "metadata": {},
   "outputs": [],
   "source": [
    "from sklearn.neighbors import LocalOutlierFactor\n",
    "lof = LocalOutlierFactor()\n",
    "outliers_rows = lof.fit_predict(data)"
   ]
  },
  {
   "cell_type": "code",
   "execution_count": 53,
   "metadata": {},
   "outputs": [],
   "source": [
    "mask = outliers_rows != -1\n"
   ]
  },
  {
   "cell_type": "code",
   "execution_count": 54,
   "metadata": {},
   "outputs": [
    {
     "data": {
      "text/plain": [
       "survival                0\n",
       "alive                   0\n",
       "age                     0\n",
       "pericardialeffusion     0\n",
       "fractionalshortening    0\n",
       "epss                    0\n",
       "lvdd                    0\n",
       "wallmotion-score        0\n",
       "wallmotion-index        0\n",
       "mult                    0\n",
       "dtype: int64"
      ]
     },
     "execution_count": 54,
     "metadata": {},
     "output_type": "execute_result"
    }
   ],
   "source": [
    "data.isnull().sum()\n"
   ]
  },
  {
   "cell_type": "code",
   "execution_count": 55,
   "metadata": {},
   "outputs": [],
   "source": [
    "from sklearn.model_selection import train_test_split\n",
    "from sklearn.linear_model import LogisticRegression\n",
    "from sklearn.tree import DecisionTreeClassifier\n",
    "from sklearn.ensemble import RandomForestClassifier, GradientBoostingClassifier\n",
    "from sklearn.metrics import accuracy_score, classification_report"
   ]
  },
  {
   "cell_type": "code",
   "execution_count": 56,
   "metadata": {},
   "outputs": [],
   "source": [
    "data = data[mask]\n"
   ]
  },
  {
   "cell_type": "code",
   "execution_count": 57,
   "metadata": {},
   "outputs": [],
   "source": [
    "from sklearn.preprocessing import StandardScaler\n",
    "\n",
    "data1 = pd.get_dummies(data, columns = discrete_features, drop_first = True)\n",
    "scaler = StandardScaler()\n",
    "data1[continuous_features] = scaler.fit_transform(data1[continuous_features])"
   ]
  },
  {
   "cell_type": "code",
   "execution_count": 58,
   "metadata": {},
   "outputs": [
    {
     "data": {
      "text/html": [
       "<div>\n",
       "<style scoped>\n",
       "    .dataframe tbody tr th:only-of-type {\n",
       "        vertical-align: middle;\n",
       "    }\n",
       "\n",
       "    .dataframe tbody tr th {\n",
       "        vertical-align: top;\n",
       "    }\n",
       "\n",
       "    .dataframe thead th {\n",
       "        text-align: right;\n",
       "    }\n",
       "</style>\n",
       "<table border=\"1\" class=\"dataframe\">\n",
       "  <thead>\n",
       "    <tr style=\"text-align: right;\">\n",
       "      <th></th>\n",
       "      <th>survival</th>\n",
       "      <th>alive</th>\n",
       "      <th>age</th>\n",
       "      <th>fractionalshortening</th>\n",
       "      <th>epss</th>\n",
       "      <th>lvdd</th>\n",
       "      <th>wallmotion-score</th>\n",
       "      <th>wallmotion-index</th>\n",
       "      <th>mult</th>\n",
       "      <th>pericardialeffusion_1.0</th>\n",
       "    </tr>\n",
       "  </thead>\n",
       "  <tbody>\n",
       "    <tr>\n",
       "      <th>0</th>\n",
       "      <td>-0.729968</td>\n",
       "      <td>0.0</td>\n",
       "      <td>1.039461</td>\n",
       "      <td>0.419602</td>\n",
       "      <td>-0.470229</td>\n",
       "      <td>-0.190540</td>\n",
       "      <td>-0.050728</td>\n",
       "      <td>-0.856557</td>\n",
       "      <td>1.156755</td>\n",
       "      <td>False</td>\n",
       "    </tr>\n",
       "    <tr>\n",
       "      <th>1</th>\n",
       "      <td>-0.221716</td>\n",
       "      <td>0.0</td>\n",
       "      <td>1.170502</td>\n",
       "      <td>1.580619</td>\n",
       "      <td>-0.940477</td>\n",
       "      <td>-0.839869</td>\n",
       "      <td>-0.050728</td>\n",
       "      <td>0.769979</td>\n",
       "      <td>-0.939966</td>\n",
       "      <td>False</td>\n",
       "    </tr>\n",
       "    <tr>\n",
       "      <th>2</th>\n",
       "      <td>-0.412311</td>\n",
       "      <td>0.0</td>\n",
       "      <td>-1.057203</td>\n",
       "      <td>0.419602</td>\n",
       "      <td>-1.253976</td>\n",
       "      <td>-1.722956</td>\n",
       "      <td>-0.050728</td>\n",
       "      <td>-0.856557</td>\n",
       "      <td>1.156755</td>\n",
       "      <td>False</td>\n",
       "    </tr>\n",
       "    <tr>\n",
       "      <th>3</th>\n",
       "      <td>2.192480</td>\n",
       "      <td>0.0</td>\n",
       "      <td>-0.401996</td>\n",
       "      <td>0.351875</td>\n",
       "      <td>0.009737</td>\n",
       "      <td>-0.186644</td>\n",
       "      <td>0.392359</td>\n",
       "      <td>0.189073</td>\n",
       "      <td>0.077860</td>\n",
       "      <td>False</td>\n",
       "    </tr>\n",
       "    <tr>\n",
       "      <th>4</th>\n",
       "      <td>-0.221716</td>\n",
       "      <td>1.0</td>\n",
       "      <td>-0.795120</td>\n",
       "      <td>-0.547913</td>\n",
       "      <td>1.567512</td>\n",
       "      <td>1.302915</td>\n",
       "      <td>0.835445</td>\n",
       "      <td>2.047971</td>\n",
       "      <td>-1.026482</td>\n",
       "      <td>False</td>\n",
       "    </tr>\n",
       "  </tbody>\n",
       "</table>\n",
       "</div>"
      ],
      "text/plain": [
       "   survival  alive       age  fractionalshortening      epss      lvdd  \\\n",
       "0 -0.729968    0.0  1.039461              0.419602 -0.470229 -0.190540   \n",
       "1 -0.221716    0.0  1.170502              1.580619 -0.940477 -0.839869   \n",
       "2 -0.412311    0.0 -1.057203              0.419602 -1.253976 -1.722956   \n",
       "3  2.192480    0.0 -0.401996              0.351875  0.009737 -0.186644   \n",
       "4 -0.221716    1.0 -0.795120             -0.547913  1.567512  1.302915   \n",
       "\n",
       "   wallmotion-score  wallmotion-index      mult  pericardialeffusion_1.0  \n",
       "0         -0.050728         -0.856557  1.156755                    False  \n",
       "1         -0.050728          0.769979 -0.939966                    False  \n",
       "2         -0.050728         -0.856557  1.156755                    False  \n",
       "3          0.392359          0.189073  0.077860                    False  \n",
       "4          0.835445          2.047971 -1.026482                    False  "
      ]
     },
     "execution_count": 58,
     "metadata": {},
     "output_type": "execute_result"
    }
   ],
   "source": [
    "data1.head()\n"
   ]
  },
  {
   "cell_type": "code",
   "execution_count": 59,
   "metadata": {},
   "outputs": [],
   "source": [
    "X = data1.drop(['alive'], axis=1)\n",
    "y = data1['alive']"
   ]
  },
  {
   "cell_type": "code",
   "execution_count": 60,
   "metadata": {},
   "outputs": [
    {
     "data": {
      "text/plain": [
       "((88, 9), (39, 9))"
      ]
     },
     "execution_count": 60,
     "metadata": {},
     "output_type": "execute_result"
    }
   ],
   "source": [
    "X_train, X_test, y_train, y_test = train_test_split(X, y, test_size=0.3, random_state=0)\n",
    "X_train.shape, X_test.shape"
   ]
  },
  {
   "cell_type": "code",
   "execution_count": 61,
   "metadata": {},
   "outputs": [],
   "source": [
    "accuracy = {}\n"
   ]
  },
  {
   "cell_type": "code",
   "execution_count": 62,
   "metadata": {},
   "outputs": [
    {
     "name": "stdout",
     "output_type": "stream",
     "text": [
      "0.8461538461538461\n"
     ]
    }
   ],
   "source": [
    "model1 = LogisticRegression(max_iter=200)\n",
    "model1.fit(X_train, y_train)\n",
    "y_pred1 = model1.predict(X_test)\n",
    "print(accuracy_score(y_test, y_pred1))\n",
    "accuracy[str(model1)] = accuracy_score(y_test, y_pred1)*100"
   ]
  },
  {
   "cell_type": "code",
   "execution_count": 63,
   "metadata": {},
   "outputs": [
    {
     "name": "stdout",
     "output_type": "stream",
     "text": [
      "0.8974358974358975\n"
     ]
    }
   ],
   "source": [
    "model2 = DecisionTreeClassifier(max_depth=3)\n",
    "model2.fit(X_train, y_train)\n",
    "y_pred2 = model2.predict(X_test)\n",
    "print(accuracy_score(y_test, y_pred2))\n",
    "accuracy[str(model2)] = accuracy_score(y_test, y_pred2)*100"
   ]
  },
  {
   "cell_type": "code",
   "execution_count": 64,
   "metadata": {},
   "outputs": [
    {
     "name": "stdout",
     "output_type": "stream",
     "text": [
      "0.8974358974358975\n"
     ]
    }
   ],
   "source": [
    "model3 = RandomForestClassifier(max_depth=6)\n",
    "model3.fit(X_train, y_train)\n",
    "y_pred3 = model3.predict(X_test)\n",
    "print(accuracy_score(y_test, y_pred3))\n",
    "accuracy[str(model3)] = accuracy_score(y_test, y_pred3)*100"
   ]
  },
  {
   "cell_type": "code",
   "execution_count": 65,
   "metadata": {},
   "outputs": [
    {
     "name": "stdout",
     "output_type": "stream",
     "text": [
      "0.8717948717948718\n"
     ]
    }
   ],
   "source": [
    "model4 = GradientBoostingClassifier(n_estimators=300, learning_rate=0.1)\n",
    "model4.fit(X_train, y_train)\n",
    "y_pred4 = model4.predict(X_test)\n",
    "print(accuracy_score(y_test, y_pred4))\n",
    "accuracy[str(model4)] = accuracy_score(y_test, y_pred4)*100"
   ]
  },
  {
   "cell_type": "code",
   "execution_count": 66,
   "metadata": {},
   "outputs": [
    {
     "data": {
      "text/plain": [
       "{'LogisticRegression(max_iter=200)': 84.61538461538461,\n",
       " 'DecisionTreeClassifier(max_depth=3)': 89.74358974358975,\n",
       " 'RandomForestClassifier(max_depth=6)': 89.74358974358975,\n",
       " 'GradientBoostingClassifier(n_estimators=300)': 87.17948717948718}"
      ]
     },
     "execution_count": 66,
     "metadata": {},
     "output_type": "execute_result"
    }
   ],
   "source": [
    "accuracy"
   ]
  },
  {
   "cell_type": "code",
   "execution_count": 67,
   "metadata": {},
   "outputs": [
    {
     "data": {
      "image/png": "[encoded data removed]",
      "text/plain": [
       "<Figure size 640x480 with 1 Axes>"
      ]
     },
     "metadata": {},
     "output_type": "display_data"
    }
   ],
   "source": [
    "algos = list(accuracy.keys())\n",
    "accu_val = list(accuracy.values())\n",
    "\n",
    "plt.bar(algos, accu_val, width=0.4)\n",
    "plt.title('Accuracy Differences')\n",
    "plt.xlabel('Algorithms')\n",
    "plt.ylabel('Accuracy')\n",
    "plt.xticks(rotation=45)\n",
    "plt.show()"
   ]
  },
  {
   "cell_type": "code",
   "execution_count": 68,
   "metadata": {},
   "outputs": [],
   "source": [
    "from sklearn.model_selection import GridSearchCV, RandomizedSearchCV, cross_val_score\n",
    "import xgboost"
   ]
  },
  {
   "cell_type": "code",
   "execution_count": 69,
   "metadata": {},
   "outputs": [
    {
     "data": {
      "text/plain": [
       "{'min_child_weight': 3, 'max_depth': 5, 'learning_rate': 0.1, 'gamma': 0.0}"
      ]
     },
     "execution_count": 69,
     "metadata": {},
     "output_type": "execute_result"
    }
   ],
   "source": [
    "param_combinations = {\n",
    "    'learning_rate': np.arange(0.05, 0.4, 0.05),\n",
    "    'max_depth': np.arange(3, 10),\n",
    "    'min_child_weight': np.arange(1, 7, 2),\n",
    "    'gamma': np.arange(0.0, 0.5, 0.1),\n",
    "}\n",
    "\n",
    "XGB = xgboost.XGBClassifier()\n",
    "perfect_params = RandomizedSearchCV(XGB, param_distributions=param_combinations, n_iter=6, n_jobs=-1, scoring='roc_auc')\n",
    "\n",
    "perfect_params.fit(X, y)\n",
    "perfect_params.best_params_"
   ]
  },
  {
   "cell_type": "code",
   "execution_count": 70,
   "metadata": {},
   "outputs": [
    {
     "ename": "NotFittedError",
     "evalue": "need to call fit or load_model beforehand",
     "output_type": "error",
     "traceback": [
      "\u001b[1;31m---------------------------------------------------------------------------\u001b[0m",
      "\u001b[1;31mNotFittedError\u001b[0m                            Traceback (most recent call last)",
      "Cell \u001b[1;32mIn[70], line 3\u001b[0m\n\u001b[0;32m      1\u001b[0m model5 \u001b[39m=\u001b[39m xgboost\u001b[39m.\u001b[39mXGBClassifier(min_child_weight\u001b[39m=\u001b[39m\u001b[39m3\u001b[39m, max_depth\u001b[39m=\u001b[39m\u001b[39m8\u001b[39m, learning_rate\u001b[39m=\u001b[39m\u001b[39m0.05\u001b[39m, gamma\u001b[39m=\u001b[39m\u001b[39m0.0\u001b[39m)\n\u001b[0;32m      2\u001b[0m score \u001b[39m=\u001b[39m cross_val_score(model5, X, y, cv\u001b[39m=\u001b[39m\u001b[39m10\u001b[39m)\n\u001b[1;32m----> 3\u001b[0m model5\u001b[39m.\u001b[39;49msave_model(\u001b[39m\"\u001b[39;49m\u001b[39mxgboost_model.bin\u001b[39;49m\u001b[39m\"\u001b[39;49m)\n",
      "File \u001b[1;32mc:\\ProgramData\\pymol\\lib\\site-packages\\xgboost\\sklearn.py:822\u001b[0m, in \u001b[0;36mXGBModel.save_model\u001b[1;34m(self, fname)\u001b[0m\n\u001b[0;32m    820\u001b[0m meta[\u001b[39m\"\u001b[39m\u001b[39m_estimator_type\u001b[39m\u001b[39m\"\u001b[39m] \u001b[39m=\u001b[39m \u001b[39mself\u001b[39m\u001b[39m.\u001b[39m_get_type()\n\u001b[0;32m    821\u001b[0m meta_str \u001b[39m=\u001b[39m json\u001b[39m.\u001b[39mdumps(meta)\n\u001b[1;32m--> 822\u001b[0m \u001b[39mself\u001b[39;49m\u001b[39m.\u001b[39;49mget_booster()\u001b[39m.\u001b[39mset_attr(scikit_learn\u001b[39m=\u001b[39mmeta_str)\n\u001b[0;32m    823\u001b[0m \u001b[39mself\u001b[39m\u001b[39m.\u001b[39mget_booster()\u001b[39m.\u001b[39msave_model(fname)\n\u001b[0;32m    824\u001b[0m \u001b[39mself\u001b[39m\u001b[39m.\u001b[39mget_booster()\u001b[39m.\u001b[39mset_attr(scikit_learn\u001b[39m=\u001b[39m\u001b[39mNone\u001b[39;00m)\n",
      "File \u001b[1;32mc:\\ProgramData\\pymol\\lib\\site-packages\\xgboost\\sklearn.py:725\u001b[0m, in \u001b[0;36mXGBModel.get_booster\u001b[1;34m(self)\u001b[0m\n\u001b[0;32m    722\u001b[0m \u001b[39mif\u001b[39;00m \u001b[39mnot\u001b[39;00m \u001b[39mself\u001b[39m\u001b[39m.\u001b[39m__sklearn_is_fitted__():\n\u001b[0;32m    723\u001b[0m     \u001b[39mfrom\u001b[39;00m \u001b[39msklearn\u001b[39;00m\u001b[39m.\u001b[39;00m\u001b[39mexceptions\u001b[39;00m \u001b[39mimport\u001b[39;00m NotFittedError\n\u001b[1;32m--> 725\u001b[0m     \u001b[39mraise\u001b[39;00m NotFittedError(\u001b[39m\"\u001b[39m\u001b[39mneed to call fit or load_model beforehand\u001b[39m\u001b[39m\"\u001b[39m)\n\u001b[0;32m    726\u001b[0m \u001b[39mreturn\u001b[39;00m \u001b[39mself\u001b[39m\u001b[39m.\u001b[39m_Booster\n",
      "\u001b[1;31mNotFittedError\u001b[0m: need to call fit or load_model beforehand"
     ]
    }
   ],
   "source": [
    "model5 = xgboost.XGBClassifier(min_child_weight=3, max_depth=8, learning_rate=0.05, gamma=0.0)\n",
    "score = cross_val_score(model5, X, y, cv=10)\n",
    "model.fit(X_scaled, y)\n",
    "model5.save_model(\"xgboost_model.bin\")"
   ]
  },
  {
   "cell_type": "code",
   "execution_count": null,
   "metadata": {},
   "outputs": [
    {
     "name": "stdout",
     "output_type": "stream",
     "text": [
      "[0.84615385 0.92307692 1.         0.76923077 0.84615385 1.\n",
      " 1.         0.83333333 0.83333333 0.66666667]\n",
      "Mean:  0.8717948717948717\n"
     ]
    }
   ],
   "source": [
    "print(score)\n",
    "print('Mean: ', score.mean())"
   ]
  },
  {
   "cell_type": "code",
   "execution_count": null,
   "metadata": {},
   "outputs": [
    {
     "name": "stdout",
     "output_type": "stream",
     "text": [
      "Current working directory: c:\\Users\\user\\Desktop\\Senior Project\\echocardiogram\n",
      "Files in current directory: ['.git', 'app.py', 'decision_tree.ipynb', 'echocardiogram.csv', 'echocardiogram.data', 'echocardiogram.names', 'Index', 'test.ipynb']\n"
     ]
    }
   ],
   "source": [
    "import os\n",
    "\n",
    "# Get the current working directory\n",
    "current_directory = os.getcwd()\n",
    "print(\"Current working directory:\", current_directory)\n",
    "\n",
    "# List files in the current directory\n",
    "files_in_directory = os.listdir(current_directory)\n",
    "print(\"Files in current directory:\", files_in_directory)"
   ]
  }
 ],
 "metadata": {
  "kernelspec": {
   "display_name": "Python 3",
   "language": "python",
   "name": "python3"
  },
  "language_info": {
   "codemirror_mode": {
    "name": "ipython",
    "version": 3
   },
   "file_extension": ".py",
   "mimetype": "text/x-python",
   "name": "python",
   "nbconvert_exporter": "python",
   "pygments_lexer": "ipython3",
   "version": "3.9.18"
  },
  "orig_nbformat": 4
 },
 "nbformat": 4,
 "nbformat_minor": 2
}
